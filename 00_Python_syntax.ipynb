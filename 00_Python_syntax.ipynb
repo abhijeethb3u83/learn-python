{
 "cells": [
  {
   "attachments": {},
   "cell_type": "markdown",
   "metadata": {},
   "source": [
    "# Python Syntax\n",
    "\n",
    "## Indentation\n",
    "One of the key features of Python syntax is the use of indentation to define code blocks. Unlike many other programming languages, Python does not use braces to group statements. Instead, it relies on the use of whitespace, specifically indentation with spaces or tabs, to indicate which statements belong together in a code block. \n",
    "\n",
    "```python\n",
    "if x > 5:\n",
    "    print(\"x is greater than 5\")\n",
    "else:\n",
    "    print(\"x is less than or equal to 5\")\n",
    "```\n",
    "\n",
    "## Keywords\n",
    "Python has a set of reserved keywords that have special meanings and cannot be used as variable names or function names. Some examples include `if`, `else`, `for`, `while`, `def`, `class`, `and`, `or`, and `not`. \n",
    "\n",
    "## Comments\n",
    "Comments are used to explain code and make it easier to understand. In Python, there are two types of comments: single-line comments and multi-line comments.\n",
    "\n",
    "Single-line comments start with the `#` character and are used for short comments on a single line:\n",
    "\n",
    "```python\n",
    "# This is a single-line comment\n",
    "```\n",
    "\n",
    "Multi-line comments are enclosed in triple quotes (`\"\"\"`) and are used for longer comments that span multiple lines:\n",
    "\n",
    "```python\n",
    "\"\"\"\n",
    "This is a multi-line comment.\n",
    "It can span multiple lines and is enclosed in triple quotes.\n",
    "\"\"\"\n",
    "```\n",
    "\n",
    "## Common Pitfalls\n",
    "One common mistake in Python syntax is forgetting to include the colon (`:`) after a statement that requires it, such as an `if` or `for` statement. For example:\n",
    "\n",
    "```python\n",
    "# Correct syntax\n",
    "if x > 5:\n",
    "    print(\"x is greater than 5\")\n",
    "\n",
    "# Incorrect syntax\n",
    "if x > 5\n",
    "    print(\"x is greater than 5\")  # Missing colon\n",
    "```\n",
    "\n",
    "Another common mistake is mixing spaces and tabs for indentation, which can cause indentation errors and make code difficult to read. It is recommended to use spaces for indentation and configure your text editor or IDE to replace tabs with spaces.\n",
    "\n"
   ]
  },
  {
   "cell_type": "markdown",
   "metadata": {},
   "source": []
  }
 ],
 "metadata": {
  "language_info": {
   "name": "python"
  },
  "orig_nbformat": 4
 },
 "nbformat": 4,
 "nbformat_minor": 2
}
